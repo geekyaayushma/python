{
 "cells": [
  {
   "cell_type": "markdown",
   "id": "83806ad8",
   "metadata": {
    "papermill": {
     "duration": 0.002298,
     "end_time": "2025-08-16T16:26:17.641431",
     "exception": false,
     "start_time": "2025-08-16T16:26:17.639133",
     "status": "completed"
    },
    "tags": []
   },
   "source": [
    "# String"
   ]
  },
  {
   "cell_type": "code",
   "execution_count": 1,
   "id": "d6977afc",
   "metadata": {
    "execution": {
     "iopub.execute_input": "2025-08-16T16:26:17.646798Z",
     "iopub.status.busy": "2025-08-16T16:26:17.646481Z",
     "iopub.status.idle": "2025-08-16T16:26:17.655699Z",
     "shell.execute_reply": "2025-08-16T16:26:17.654638Z"
    },
    "papermill": {
     "duration": 0.013533,
     "end_time": "2025-08-16T16:26:17.657055",
     "exception": false,
     "start_time": "2025-08-16T16:26:17.643522",
     "status": "completed"
    },
    "tags": []
   },
   "outputs": [
    {
     "name": "stdout",
     "output_type": "stream",
     "text": [
      "This is string\n",
      "This is string\n"
     ]
    }
   ],
   "source": [
    "str1 = \"This is string\"\n",
    "str2 = 'This is string'\n",
    "str3 = \"\"\"This is string\"\"\"\n",
    "print(str1)\n",
    "print(str2)"
   ]
  },
  {
   "cell_type": "code",
   "execution_count": 2,
   "id": "80076fdb",
   "metadata": {
    "execution": {
     "iopub.execute_input": "2025-08-16T16:26:17.662797Z",
     "iopub.status.busy": "2025-08-16T16:26:17.662048Z",
     "iopub.status.idle": "2025-08-16T16:26:17.667114Z",
     "shell.execute_reply": "2025-08-16T16:26:17.666034Z"
    },
    "papermill": {
     "duration": 0.009448,
     "end_time": "2025-08-16T16:26:17.668663",
     "exception": false,
     "start_time": "2025-08-16T16:26:17.659215",
     "status": "completed"
    },
    "tags": []
   },
   "outputs": [
    {
     "name": "stdout",
     "output_type": "stream",
     "text": [
      "My name is Ram. /n I'm learning python.\n",
      "My name is Ram. /n I'm learning python.\n"
     ]
    }
   ],
   "source": [
    "#escape character \n",
    "\n",
    "aboutRam = \"My name is Ram. /n I'm learning python.\"\n",
    "aboutShyam = \"My name is Shyam. /t I'm learning python.\"\n",
    "print(aboutRam)\n",
    "print(aboutRam)"
   ]
  },
  {
   "cell_type": "code",
   "execution_count": 3,
   "id": "ff33f579",
   "metadata": {
    "execution": {
     "iopub.execute_input": "2025-08-16T16:26:17.674070Z",
     "iopub.status.busy": "2025-08-16T16:26:17.673772Z",
     "iopub.status.idle": "2025-08-16T16:26:17.678694Z",
     "shell.execute_reply": "2025-08-16T16:26:17.677620Z"
    },
    "papermill": {
     "duration": 0.009406,
     "end_time": "2025-08-16T16:26:17.680272",
     "exception": false,
     "start_time": "2025-08-16T16:26:17.670866",
     "status": "completed"
    },
    "tags": []
   },
   "outputs": [
    {
     "name": "stdout",
     "output_type": "stream",
     "text": [
      "HelloWorld!!\n",
      "str1str2\n"
     ]
    }
   ],
   "source": [
    "#string concatination\n",
    "\n",
    "str1 = \"Hello\"\n",
    "str2 = \"World!!\"\n",
    "\n",
    "finalstr = \"str1\" + \"\" + \"str2\"\n",
    "\n",
    "print(str1+str2)\n",
    "print(finalstr)"
   ]
  },
  {
   "cell_type": "code",
   "execution_count": 4,
   "id": "4c968b65",
   "metadata": {
    "execution": {
     "iopub.execute_input": "2025-08-16T16:26:17.685827Z",
     "iopub.status.busy": "2025-08-16T16:26:17.685546Z",
     "iopub.status.idle": "2025-08-16T16:26:17.690431Z",
     "shell.execute_reply": "2025-08-16T16:26:17.689467Z"
    },
    "papermill": {
     "duration": 0.009275,
     "end_time": "2025-08-16T16:26:17.691796",
     "exception": false,
     "start_time": "2025-08-16T16:26:17.682521",
     "status": "completed"
    },
    "tags": []
   },
   "outputs": [
    {
     "name": "stdout",
     "output_type": "stream",
     "text": [
      "5\n"
     ]
    }
   ],
   "source": [
    "#length of string\n",
    "\n",
    "str1 = \"Hello\"\n",
    "length = len(str1)\n",
    "\n",
    "print(length)"
   ]
  },
  {
   "cell_type": "code",
   "execution_count": 5,
   "id": "332afe7f",
   "metadata": {
    "execution": {
     "iopub.execute_input": "2025-08-16T16:26:17.698154Z",
     "iopub.status.busy": "2025-08-16T16:26:17.697447Z",
     "iopub.status.idle": "2025-08-16T16:26:17.702721Z",
     "shell.execute_reply": "2025-08-16T16:26:17.701690Z"
    },
    "papermill": {
     "duration": 0.010018,
     "end_time": "2025-08-16T16:26:17.704176",
     "exception": false,
     "start_time": "2025-08-16T16:26:17.694158",
     "status": "completed"
    },
    "tags": []
   },
   "outputs": [
    {
     "name": "stdout",
     "output_type": "stream",
     "text": [
      "l\n"
     ]
    }
   ],
   "source": [
    "#indexing\n",
    "\n",
    "str = \"learning python is fun\"\n",
    "ch = str [0]\n",
    "\n",
    "print (ch)"
   ]
  },
  {
   "cell_type": "code",
   "execution_count": 6,
   "id": "4e783ed9",
   "metadata": {
    "execution": {
     "iopub.execute_input": "2025-08-16T16:26:17.709883Z",
     "iopub.status.busy": "2025-08-16T16:26:17.709597Z",
     "iopub.status.idle": "2025-08-16T16:26:17.715346Z",
     "shell.execute_reply": "2025-08-16T16:26:17.714423Z"
    },
    "papermill": {
     "duration": 0.010204,
     "end_time": "2025-08-16T16:26:17.716704",
     "exception": false,
     "start_time": "2025-08-16T16:26:17.706500",
     "status": "completed"
    },
    "tags": []
   },
   "outputs": [
    {
     "name": "stdout",
     "output_type": "stream",
     "text": [
      "o \n",
      "o World\n",
      " Hel\n",
      "llo World\n"
     ]
    }
   ],
   "source": [
    "#slicing - Acessing part of string\n",
    "#str [strating index : ending index]\n",
    "\n",
    "str =\" Hello World\"\n",
    "\n",
    "print (str[5:7])\n",
    "print (str[5:len(str)])\n",
    "print (str[:4]) # [0:4]\n",
    "print (str[3:]) # [0:last_index]"
   ]
  },
  {
   "cell_type": "code",
   "execution_count": 7,
   "id": "2c9fd890",
   "metadata": {
    "execution": {
     "iopub.execute_input": "2025-08-16T16:26:17.722887Z",
     "iopub.status.busy": "2025-08-16T16:26:17.722603Z",
     "iopub.status.idle": "2025-08-16T16:26:17.727660Z",
     "shell.execute_reply": "2025-08-16T16:26:17.726653Z"
    },
    "papermill": {
     "duration": 0.009952,
     "end_time": "2025-08-16T16:26:17.729161",
     "exception": false,
     "start_time": "2025-08-16T16:26:17.719209",
     "status": "completed"
    },
    "tags": []
   },
   "outputs": [
    {
     "name": "stdout",
     "output_type": "stream",
     "text": [
      "ho\n"
     ]
    }
   ],
   "source": [
    "#negative index slicing\n",
    "\n",
    "str = \"Python\"\n",
    "\n",
    "print (str[-3:-1])"
   ]
  }
 ],
 "metadata": {
  "kaggle": {
   "accelerator": "none",
   "dataSources": [],
   "isGpuEnabled": false,
   "isInternetEnabled": false,
   "language": "python",
   "sourceType": "notebook"
  },
  "kernelspec": {
   "display_name": "Python 3",
   "language": "python",
   "name": "python3"
  },
  "language_info": {
   "codemirror_mode": {
    "name": "ipython",
    "version": 3
   },
   "file_extension": ".py",
   "mimetype": "text/x-python",
   "name": "python",
   "nbconvert_exporter": "python",
   "pygments_lexer": "ipython3",
   "version": "3.11.13"
  },
  "papermill": {
   "default_parameters": {},
   "duration": 5.417652,
   "end_time": "2025-08-16T16:26:18.150250",
   "environment_variables": {},
   "exception": null,
   "input_path": "__notebook__.ipynb",
   "output_path": "__notebook__.ipynb",
   "parameters": {},
   "start_time": "2025-08-16T16:26:12.732598",
   "version": "2.6.0"
  }
 },
 "nbformat": 4,
 "nbformat_minor": 5
}
