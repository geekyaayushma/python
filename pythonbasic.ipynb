{
 "cells": [
  {
   "cell_type": "code",
   "execution_count": 1,
   "id": "b7c55761",
   "metadata": {
    "_cell_guid": "b1076dfc-b9ad-4769-8c92-a6c4dae69d19",
    "_uuid": "8f2839f25d086af736a60e9eeb907d3b93b6e0e5",
    "execution": {
     "iopub.execute_input": "2025-08-15T09:51:19.653868Z",
     "iopub.status.busy": "2025-08-15T09:51:19.653485Z",
     "iopub.status.idle": "2025-08-15T09:51:21.544284Z",
     "shell.execute_reply": "2025-08-15T09:51:21.543364Z"
    },
    "papermill": {
     "duration": 1.897254,
     "end_time": "2025-08-15T09:51:21.546381",
     "exception": false,
     "start_time": "2025-08-15T09:51:19.649127",
     "status": "completed"
    },
    "tags": []
   },
   "outputs": [],
   "source": [
    "# This Python 3 environment comes with many helpful analytics libraries installed\n",
    "# It is defined by the kaggle/python Docker image: https://github.com/kaggle/docker-python\n",
    "# For example, here's several helpful packages to load\n",
    "\n",
    "import numpy as np # linear algebra\n",
    "import pandas as pd # data processing, CSV file I/O (e.g. pd.read_csv)\n",
    "\n",
    "# Input data files are available in the read-only \"../input/\" directory\n",
    "# For example, running this (by clicking run or pressing Shift+Enter) will list all files under the input directory\n",
    "\n",
    "import os\n",
    "for dirname, _, filenames in os.walk('/kaggle/input'):\n",
    "    for filename in filenames:\n",
    "        print(os.path.join(dirname, filename))\n",
    "\n",
    "# You can write up to 20GB to the current directory (/kaggle/working/) that gets preserved as output when you create a version using \"Save & Run All\" \n",
    "# You can also write temporary files to /kaggle/temp/, but they won't be saved outside of the current session"
   ]
  },
  {
   "cell_type": "markdown",
   "id": "0e57abff",
   "metadata": {
    "papermill": {
     "duration": 0.002278,
     "end_time": "2025-08-15T09:51:21.552181",
     "exception": false,
     "start_time": "2025-08-15T09:51:21.549903",
     "status": "completed"
    },
    "tags": []
   },
   "source": [
    "# Print function :"
   ]
  },
  {
   "cell_type": "code",
   "execution_count": 2,
   "id": "85b0fe75",
   "metadata": {
    "execution": {
     "iopub.execute_input": "2025-08-15T09:51:21.558724Z",
     "iopub.status.busy": "2025-08-15T09:51:21.558284Z",
     "iopub.status.idle": "2025-08-15T09:51:21.564118Z",
     "shell.execute_reply": "2025-08-15T09:51:21.562933Z"
    },
    "papermill": {
     "duration": 0.011087,
     "end_time": "2025-08-15T09:51:21.565746",
     "exception": false,
     "start_time": "2025-08-15T09:51:21.554659",
     "status": "completed"
    },
    "tags": []
   },
   "outputs": [
    {
     "name": "stdout",
     "output_type": "stream",
     "text": [
      "Hello world\n"
     ]
    }
   ],
   "source": [
    "print (\"Hello world\")"
   ]
  },
  {
   "cell_type": "code",
   "execution_count": 3,
   "id": "52ee1e0b",
   "metadata": {
    "execution": {
     "iopub.execute_input": "2025-08-15T09:51:21.572141Z",
     "iopub.status.busy": "2025-08-15T09:51:21.571790Z",
     "iopub.status.idle": "2025-08-15T09:51:21.577245Z",
     "shell.execute_reply": "2025-08-15T09:51:21.576042Z"
    },
    "papermill": {
     "duration": 0.010206,
     "end_time": "2025-08-15T09:51:21.578646",
     "exception": false,
     "start_time": "2025-08-15T09:51:21.568440",
     "status": "completed"
    },
    "tags": []
   },
   "outputs": [
    {
     "name": "stdout",
     "output_type": "stream",
     "text": [
      "Hi\n",
      "I'm learning python\n"
     ]
    }
   ],
   "source": [
    "print (\"Hi\")\n",
    "print (\"I'm learning python\")"
   ]
  },
  {
   "cell_type": "code",
   "execution_count": 4,
   "id": "5b608d08",
   "metadata": {
    "execution": {
     "iopub.execute_input": "2025-08-15T09:51:21.585630Z",
     "iopub.status.busy": "2025-08-15T09:51:21.585303Z",
     "iopub.status.idle": "2025-08-15T09:51:21.590961Z",
     "shell.execute_reply": "2025-08-15T09:51:21.589928Z"
    },
    "papermill": {
     "duration": 0.010903,
     "end_time": "2025-08-15T09:51:21.592430",
     "exception": false,
     "start_time": "2025-08-15T09:51:21.581527",
     "status": "completed"
    },
    "tags": []
   },
   "outputs": [
    {
     "name": "stdout",
     "output_type": "stream",
     "text": [
      " Python is simple Easy to learn\n"
     ]
    }
   ],
   "source": [
    "print (\" Python is simple\" , \"Easy to learn\")"
   ]
  },
  {
   "cell_type": "code",
   "execution_count": 5,
   "id": "b579b2fe",
   "metadata": {
    "execution": {
     "iopub.execute_input": "2025-08-15T09:51:21.599525Z",
     "iopub.status.busy": "2025-08-15T09:51:21.599187Z",
     "iopub.status.idle": "2025-08-15T09:51:21.604235Z",
     "shell.execute_reply": "2025-08-15T09:51:21.603102Z"
    },
    "papermill": {
     "duration": 0.010341,
     "end_time": "2025-08-15T09:51:21.605693",
     "exception": false,
     "start_time": "2025-08-15T09:51:21.595352",
     "status": "completed"
    },
    "tags": []
   },
   "outputs": [
    {
     "name": "stdout",
     "output_type": "stream",
     "text": [
      "2025\n"
     ]
    }
   ],
   "source": [
    "print (2025)"
   ]
  },
  {
   "cell_type": "code",
   "execution_count": 6,
   "id": "d61ef2e3",
   "metadata": {
    "execution": {
     "iopub.execute_input": "2025-08-15T09:51:21.612541Z",
     "iopub.status.busy": "2025-08-15T09:51:21.612220Z",
     "iopub.status.idle": "2025-08-15T09:51:21.617755Z",
     "shell.execute_reply": "2025-08-15T09:51:21.616668Z"
    },
    "papermill": {
     "duration": 0.010801,
     "end_time": "2025-08-15T09:51:21.619352",
     "exception": false,
     "start_time": "2025-08-15T09:51:21.608551",
     "status": "completed"
    },
    "tags": []
   },
   "outputs": [
    {
     "name": "stdout",
     "output_type": "stream",
     "text": [
      "55\n"
     ]
    }
   ],
   "source": [
    "print (25+30)"
   ]
  },
  {
   "cell_type": "markdown",
   "id": "becb96e3",
   "metadata": {
    "papermill": {
     "duration": 0.002279,
     "end_time": "2025-08-15T09:51:21.624617",
     "exception": false,
     "start_time": "2025-08-15T09:51:21.622338",
     "status": "completed"
    },
    "tags": []
   },
   "source": [
    "# Variable :\n"
   ]
  },
  {
   "cell_type": "code",
   "execution_count": 7,
   "id": "f4be870a",
   "metadata": {
    "execution": {
     "iopub.execute_input": "2025-08-15T09:51:21.630952Z",
     "iopub.status.busy": "2025-08-15T09:51:21.630591Z",
     "iopub.status.idle": "2025-08-15T09:51:21.635916Z",
     "shell.execute_reply": "2025-08-15T09:51:21.634891Z"
    },
    "papermill": {
     "duration": 0.010409,
     "end_time": "2025-08-15T09:51:21.637505",
     "exception": false,
     "start_time": "2025-08-15T09:51:21.627096",
     "status": "completed"
    },
    "tags": []
   },
   "outputs": [
    {
     "name": "stdout",
     "output_type": "stream",
     "text": [
      "Aayushma 23 98121000\n"
     ]
    }
   ],
   "source": [
    "name = \"Aayushma\"\n",
    "age = 23;\n",
    "phone_no = 98121000\n",
    "print (name , age , phone_no)"
   ]
  },
  {
   "cell_type": "code",
   "execution_count": 8,
   "id": "3773a3e9",
   "metadata": {
    "execution": {
     "iopub.execute_input": "2025-08-15T09:51:21.644481Z",
     "iopub.status.busy": "2025-08-15T09:51:21.644148Z",
     "iopub.status.idle": "2025-08-15T09:51:21.649687Z",
     "shell.execute_reply": "2025-08-15T09:51:21.648665Z"
    },
    "papermill": {
     "duration": 0.010789,
     "end_time": "2025-08-15T09:51:21.651206",
     "exception": false,
     "start_time": "2025-08-15T09:51:21.640417",
     "status": "completed"
    },
    "tags": []
   },
   "outputs": [
    {
     "name": "stdout",
     "output_type": "stream",
     "text": [
      "The age is : 23\n"
     ]
    }
   ],
   "source": [
    "age = 23\n",
    "age2 = age \n",
    "print ( \"The age is :\" , age2)"
   ]
  }
 ],
 "metadata": {
  "kaggle": {
   "accelerator": "none",
   "dataSources": [],
   "dockerImageVersionId": 31089,
   "isGpuEnabled": false,
   "isInternetEnabled": false,
   "language": "python",
   "sourceType": "notebook"
  },
  "kernelspec": {
   "display_name": "Python 3",
   "language": "python",
   "name": "python3"
  },
  "language_info": {
   "codemirror_mode": {
    "name": "ipython",
    "version": 3
   },
   "file_extension": ".py",
   "mimetype": "text/x-python",
   "name": "python",
   "nbconvert_exporter": "python",
   "pygments_lexer": "ipython3",
   "version": "3.11.13"
  },
  "papermill": {
   "default_parameters": {},
   "duration": 7.693845,
   "end_time": "2025-08-15T09:51:22.275425",
   "environment_variables": {},
   "exception": null,
   "input_path": "__notebook__.ipynb",
   "output_path": "__notebook__.ipynb",
   "parameters": {},
   "start_time": "2025-08-15T09:51:14.581580",
   "version": "2.6.0"
  }
 },
 "nbformat": 4,
 "nbformat_minor": 5
}
